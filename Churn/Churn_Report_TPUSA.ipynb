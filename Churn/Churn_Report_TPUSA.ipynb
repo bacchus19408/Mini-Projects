{
 "cells": [
  {
   "cell_type": "code",
   "execution_count": 54,
   "metadata": {},
   "outputs": [],
   "source": [
    "import numpy as np\n",
    "import pandas as pd\n",
    "from sklearn.model_selection import train_test_split\n",
    "from sklearn.ensemble import RandomForestClassifier\n",
    "from sklearn.metrics import confusion_matrix\n",
    "from sklearn.metrics import roc_curve\n",
    "from sklearn.preprocessing import StandardScaler\n",
    "import matplotlib\n",
    "import matplotlib.pyplot as plt\n",
    "import matplotlib.pyplot as plot\n",
    "from IPython.display import display, HTML\n",
    "import seaborn as sns\n",
    "%matplotlib inline\n",
    "\n",
    "from pylab import rcParams\n",
    "\n",
    "sns.set(style = 'whitegrid', palette = 'muted', font_scale = 1.5)\n",
    "\n",
    "rcParams['figure.figsize'] = 14, 8"
   ]
  },
  {
   "cell_type": "code",
   "execution_count": 17,
   "metadata": {},
   "outputs": [],
   "source": [
    "df = pd.read_csv(\"/Users/jamalbacchus/IdeaProjects/Capstone/Mini Projects/Churn/dataset/Pulse_surveyv2.csv\", header = 0)"
   ]
  },
  {
   "cell_type": "code",
   "execution_count": 18,
   "metadata": {},
   "outputs": [
    {
     "data": {
      "text/html": [
       "<div>\n",
       "<style scoped>\n",
       "    .dataframe tbody tr th:only-of-type {\n",
       "        vertical-align: middle;\n",
       "    }\n",
       "\n",
       "    .dataframe tbody tr th {\n",
       "        vertical-align: top;\n",
       "    }\n",
       "\n",
       "    .dataframe thead th {\n",
       "        text-align: right;\n",
       "    }\n",
       "</style>\n",
       "<table border=\"1\" class=\"dataframe\">\n",
       "  <thead>\n",
       "    <tr style=\"text-align: right;\">\n",
       "      <th></th>\n",
       "      <th>Site</th>\n",
       "      <th>ccmsID</th>\n",
       "      <th>TraineeFirstNameUTF8</th>\n",
       "      <th>TraineeLastNameUTF8</th>\n",
       "      <th>Client</th>\n",
       "      <th>Program</th>\n",
       "      <th>compliant</th>\n",
       "      <th>EnrolledUsers</th>\n",
       "      <th>Active</th>\n",
       "    </tr>\n",
       "  </thead>\n",
       "  <tbody>\n",
       "    <tr>\n",
       "      <th>0</th>\n",
       "      <td>TPA1 Boulder Lakes, MN</td>\n",
       "      <td>1020738.0</td>\n",
       "      <td>JoAnne</td>\n",
       "      <td>Anderson</td>\n",
       "      <td>Teleperformance Alliance One</td>\n",
       "      <td>TPA1 BLDLK Corporate Admin</td>\n",
       "      <td>1.0</td>\n",
       "      <td>1.0</td>\n",
       "      <td>1.0</td>\n",
       "    </tr>\n",
       "    <tr>\n",
       "      <th>1</th>\n",
       "      <td>TPGY Georgetown, Demerara-Mahaica</td>\n",
       "      <td>1949226.0</td>\n",
       "      <td>Sheria</td>\n",
       "      <td>Lewis</td>\n",
       "      <td>UPS</td>\n",
       "      <td>UPS GRGTN New Hire</td>\n",
       "      <td>1.0</td>\n",
       "      <td>1.0</td>\n",
       "      <td>1.0</td>\n",
       "    </tr>\n",
       "    <tr>\n",
       "      <th>2</th>\n",
       "      <td>TPGY Georgetown, Demerara-Mahaica</td>\n",
       "      <td>1952236.0</td>\n",
       "      <td>Handel</td>\n",
       "      <td>James</td>\n",
       "      <td>Health Care Services Corporation</td>\n",
       "      <td>HCSC GRGTN Assistant Manager</td>\n",
       "      <td>1.0</td>\n",
       "      <td>1.0</td>\n",
       "      <td>1.0</td>\n",
       "    </tr>\n",
       "    <tr>\n",
       "      <th>3</th>\n",
       "      <td>TPGY Georgetown, Demerara-Mahaica</td>\n",
       "      <td>1953455.0</td>\n",
       "      <td>Sabita</td>\n",
       "      <td>Chandrika</td>\n",
       "      <td>Health Care Services Corporation</td>\n",
       "      <td>HCSC GRGTN Non-Licensed Agent</td>\n",
       "      <td>1.0</td>\n",
       "      <td>1.0</td>\n",
       "      <td>1.0</td>\n",
       "    </tr>\n",
       "    <tr>\n",
       "      <th>4</th>\n",
       "      <td>TPGY Georgetown, Demerara-Mahaica</td>\n",
       "      <td>1956396.0</td>\n",
       "      <td>Hemanjali</td>\n",
       "      <td>Sharma</td>\n",
       "      <td>FTD</td>\n",
       "      <td>FTD GRGTN Supervisor</td>\n",
       "      <td>1.0</td>\n",
       "      <td>1.0</td>\n",
       "      <td>1.0</td>\n",
       "    </tr>\n",
       "  </tbody>\n",
       "</table>\n",
       "</div>"
      ],
      "text/plain": [
       "                                Site     ccmsID TraineeFirstNameUTF8  \\\n",
       "0             TPA1 Boulder Lakes, MN  1020738.0               JoAnne   \n",
       "1  TPGY Georgetown, Demerara-Mahaica  1949226.0               Sheria   \n",
       "2  TPGY Georgetown, Demerara-Mahaica  1952236.0               Handel   \n",
       "3  TPGY Georgetown, Demerara-Mahaica  1953455.0               Sabita   \n",
       "4  TPGY Georgetown, Demerara-Mahaica  1956396.0            Hemanjali   \n",
       "\n",
       "  TraineeLastNameUTF8                            Client  \\\n",
       "0            Anderson      Teleperformance Alliance One   \n",
       "1               Lewis                               UPS   \n",
       "2               James  Health Care Services Corporation   \n",
       "3           Chandrika  Health Care Services Corporation   \n",
       "4              Sharma                               FTD   \n",
       "\n",
       "                         Program  compliant  EnrolledUsers  Active  \n",
       "0     TPA1 BLDLK Corporate Admin        1.0            1.0     1.0  \n",
       "1             UPS GRGTN New Hire        1.0            1.0     1.0  \n",
       "2   HCSC GRGTN Assistant Manager        1.0            1.0     1.0  \n",
       "3  HCSC GRGTN Non-Licensed Agent        1.0            1.0     1.0  \n",
       "4           FTD GRGTN Supervisor        1.0            1.0     1.0  "
      ]
     },
     "execution_count": 18,
     "metadata": {},
     "output_type": "execute_result"
    }
   ],
   "source": [
    "df.head()"
   ]
  },
  {
   "cell_type": "code",
   "execution_count": 9,
   "metadata": {},
   "outputs": [
    {
     "data": {
      "text/plain": [
       "(6686, 9)"
      ]
     },
     "execution_count": 9,
     "metadata": {},
     "output_type": "execute_result"
    }
   ],
   "source": [
    "df.shape"
   ]
  },
  {
   "cell_type": "code",
   "execution_count": 44,
   "metadata": {},
   "outputs": [
    {
     "data": {
      "text/plain": [
       "True"
      ]
     },
     "execution_count": 44,
     "metadata": {},
     "output_type": "execute_result"
    }
   ],
   "source": [
    "df.isnull().values.any()"
   ]
  },
  {
   "cell_type": "code",
   "execution_count": 36,
   "metadata": {},
   "outputs": [
    {
     "data": {
      "text/plain": [
       "0               TPA1 Boulder Lakes, MN\n",
       "1    TPGY Georgetown, Demerara-Mahaica\n",
       "2    TPGY Georgetown, Demerara-Mahaica\n",
       "3    TPGY Georgetown, Demerara-Mahaica\n",
       "4    TPGY Georgetown, Demerara-Mahaica\n",
       "Name: Site, dtype: object"
      ]
     },
     "execution_count": 36,
     "metadata": {},
     "output_type": "execute_result"
    }
   ],
   "source": [
    "df['Site'].head(5)"
   ]
  },
  {
   "cell_type": "code",
   "execution_count": 38,
   "metadata": {},
   "outputs": [],
   "source": [
    "df_Dallas = df[df.Site == 'TPUS Dallas, TX']"
   ]
  },
  {
   "cell_type": "code",
   "execution_count": 39,
   "metadata": {},
   "outputs": [
    {
     "data": {
      "text/html": [
       "<div>\n",
       "<style scoped>\n",
       "    .dataframe tbody tr th:only-of-type {\n",
       "        vertical-align: middle;\n",
       "    }\n",
       "\n",
       "    .dataframe tbody tr th {\n",
       "        vertical-align: top;\n",
       "    }\n",
       "\n",
       "    .dataframe thead th {\n",
       "        text-align: right;\n",
       "    }\n",
       "</style>\n",
       "<table border=\"1\" class=\"dataframe\">\n",
       "  <thead>\n",
       "    <tr style=\"text-align: right;\">\n",
       "      <th></th>\n",
       "      <th>Site</th>\n",
       "      <th>ccmsID</th>\n",
       "      <th>TraineeFirstNameUTF8</th>\n",
       "      <th>TraineeLastNameUTF8</th>\n",
       "      <th>Client</th>\n",
       "      <th>Program</th>\n",
       "      <th>compliant</th>\n",
       "      <th>EnrolledUsers</th>\n",
       "      <th>Active</th>\n",
       "    </tr>\n",
       "  </thead>\n",
       "  <tbody>\n",
       "    <tr>\n",
       "      <th>2483</th>\n",
       "      <td>TPUS Dallas, TX</td>\n",
       "      <td>577031.0</td>\n",
       "      <td>Matthew</td>\n",
       "      <td>Watkins</td>\n",
       "      <td>Humana</td>\n",
       "      <td>Humana DLLAS Customer Service Agent</td>\n",
       "      <td>1.0</td>\n",
       "      <td>1.0</td>\n",
       "      <td>1.0</td>\n",
       "    </tr>\n",
       "    <tr>\n",
       "      <th>2484</th>\n",
       "      <td>TPUS Dallas, TX</td>\n",
       "      <td>1395219.0</td>\n",
       "      <td>Doyel</td>\n",
       "      <td>Bhattacharya</td>\n",
       "      <td>Teleperformance USA</td>\n",
       "      <td>TPUSA DLLAS Corporate Human Resources</td>\n",
       "      <td>0.0</td>\n",
       "      <td>1.0</td>\n",
       "      <td>1.0</td>\n",
       "    </tr>\n",
       "    <tr>\n",
       "      <th>2485</th>\n",
       "      <td>TPUS Dallas, TX</td>\n",
       "      <td>1397531.0</td>\n",
       "      <td>Romila</td>\n",
       "      <td>Sinha</td>\n",
       "      <td>Humana</td>\n",
       "      <td>Humana DLLAS Manager</td>\n",
       "      <td>1.0</td>\n",
       "      <td>1.0</td>\n",
       "      <td>1.0</td>\n",
       "    </tr>\n",
       "    <tr>\n",
       "      <th>2486</th>\n",
       "      <td>TPUS Dallas, TX</td>\n",
       "      <td>1397543.0</td>\n",
       "      <td>Bobby</td>\n",
       "      <td>Wiley</td>\n",
       "      <td>Humana</td>\n",
       "      <td>Humana DLLAS Supervisor</td>\n",
       "      <td>1.0</td>\n",
       "      <td>1.0</td>\n",
       "      <td>1.0</td>\n",
       "    </tr>\n",
       "    <tr>\n",
       "      <th>2487</th>\n",
       "      <td>TPUS Dallas, TX</td>\n",
       "      <td>1397561.0</td>\n",
       "      <td>Kali</td>\n",
       "      <td>Anderson</td>\n",
       "      <td>Humana</td>\n",
       "      <td>Humana DLLAS Supervisor</td>\n",
       "      <td>1.0</td>\n",
       "      <td>1.0</td>\n",
       "      <td>1.0</td>\n",
       "    </tr>\n",
       "  </tbody>\n",
       "</table>\n",
       "</div>"
      ],
      "text/plain": [
       "                 Site     ccmsID TraineeFirstNameUTF8 TraineeLastNameUTF8  \\\n",
       "2483  TPUS Dallas, TX   577031.0              Matthew             Watkins   \n",
       "2484  TPUS Dallas, TX  1395219.0                Doyel        Bhattacharya   \n",
       "2485  TPUS Dallas, TX  1397531.0               Romila               Sinha   \n",
       "2486  TPUS Dallas, TX  1397543.0                Bobby               Wiley   \n",
       "2487  TPUS Dallas, TX  1397561.0                 Kali            Anderson   \n",
       "\n",
       "                   Client                                Program  compliant  \\\n",
       "2483               Humana    Humana DLLAS Customer Service Agent        1.0   \n",
       "2484  Teleperformance USA  TPUSA DLLAS Corporate Human Resources        0.0   \n",
       "2485               Humana                   Humana DLLAS Manager        1.0   \n",
       "2486               Humana                Humana DLLAS Supervisor        1.0   \n",
       "2487               Humana                Humana DLLAS Supervisor        1.0   \n",
       "\n",
       "      EnrolledUsers  Active  \n",
       "2483            1.0     1.0  \n",
       "2484            1.0     1.0  \n",
       "2485            1.0     1.0  \n",
       "2486            1.0     1.0  \n",
       "2487            1.0     1.0  "
      ]
     },
     "execution_count": 39,
     "metadata": {},
     "output_type": "execute_result"
    }
   ],
   "source": [
    "df_Dallas.head()"
   ]
  },
  {
   "cell_type": "code",
   "execution_count": 64,
   "metadata": {},
   "outputs": [],
   "source": [
    "#fig, ax = plt.subplots()\n",
    "#ax.barh(df.Client, df.compliant)\n",
    "#labels = ax.get_xticklabels()"
   ]
  },
  {
   "cell_type": "code",
   "execution_count": 47,
   "metadata": {},
   "outputs": [
    {
     "data": {
      "text/plain": [
       "Text(0,0.5,u'Compliant')"
      ]
     },
     "execution_count": 47,
     "metadata": {},
     "output_type": "execute_result"
    },
    {
     "data": {
      "image/png": "[encoded data removed]",
      "text/plain": [
       "<matplotlib.figure.Figure at 0x10b814a50>"
      ]
     },
     "metadata": {},
     "output_type": "display_data"
    }
   ],
   "source": [
    "count_classes = pd.value_counts(df_Dallas['Client'], sort = True).sort_index()\n",
    "count_classes.plot(kind = 'bar', rot = 0)\n",
    "plot.title(\"Compliant histogram\")\n",
    "plot.xlabel(\"Compaign\")\n",
    "plot.ylabel(\"Compliant\")"
   ]
  },
  {
   "cell_type": "code",
   "execution_count": 42,
   "metadata": {},
   "outputs": [
    {
     "data": {
      "text/plain": [
       "(137, 9)"
      ]
     },
     "execution_count": 42,
     "metadata": {},
     "output_type": "execute_result"
    }
   ],
   "source": [
    "df_Dallas.shape"
   ]
  },
  {
   "cell_type": "code",
   "execution_count": 72,
   "metadata": {},
   "outputs": [],
   "source": []
  }
 ],
 "metadata": {
  "kernelspec": {
   "display_name": "Python 2",
   "language": "python",
   "name": "python2"
  },
  "language_info": {
   "codemirror_mode": {
    "name": "ipython",
    "version": 2
   },
   "file_extension": ".py",
   "mimetype": "text/x-python",
   "name": "python",
   "nbconvert_exporter": "python",
   "pygments_lexer": "ipython2",
   "version": "2.7.14"
  }
 },
 "nbformat": 4,
 "nbformat_minor": 2
}
