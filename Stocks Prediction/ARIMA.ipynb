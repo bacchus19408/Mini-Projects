{
 "cells": [
  {
   "cell_type": "code",
   "execution_count": 4,
   "metadata": {},
   "outputs": [
    {
     "data": {
      "text/plain": [
       "'/Users/jamalbacchus/IdeaProjects/Capstone/SpringBoard/Mini-Projects/Stocks Prediction/Quotes'"
      ]
     },
     "execution_count": 4,
     "metadata": {},
     "output_type": "execute_result"
    }
   ],
   "source": [
    "import os;\n",
    "path = \"/Users/jamalbacchus/IdeaProjects/Capstone/SpringBoard/Mini-Projects/Stocks Prediction/Quotes/\"\n",
    "os.chdir(path)\n",
    "os.getcwd()"
   ]
  },
  {
   "cell_type": "code",
   "execution_count": 35,
   "metadata": {},
   "outputs": [],
   "source": [
    "%matplotlib inline\n",
    "import pandas as pd\n",
    "import matplotlib.mlab as mlab\n",
    "import matplotlib.pyplot as plt\n",
    "import numpy as np\n",
    "import math\n",
    "from statsmodels.tsa.stattools import acf, pacf\n",
    "import statsmodels.tsa.stattools as ts\n",
    "from statsmodels.tsa.arima_model import ARIMA, ARIMAResults\n",
    "from statsmodels.tsa.stattools import acf, pacf\n",
    "from statsmodels.graphics.tsaplots import plot_acf, plot_pacf\n",
    "import matplotlib.pylab as plt\n",
    "import matplotlib.dates as dates\n",
    "from pylab import rcParams\n",
    "\n",
    "rcParams['figure.figsize'] = 15, 10"
   ]
  },
  {
   "cell_type": "code",
   "execution_count": 38,
   "metadata": {},
   "outputs": [
    {
     "data": {
      "text/html": [
       "<div>\n",
       "<style scoped>\n",
       "    .dataframe tbody tr th:only-of-type {\n",
       "        vertical-align: middle;\n",
       "    }\n",
       "\n",
       "    .dataframe tbody tr th {\n",
       "        vertical-align: top;\n",
       "    }\n",
       "\n",
       "    .dataframe thead th {\n",
       "        text-align: right;\n",
       "    }\n",
       "</style>\n",
       "<table border=\"1\" class=\"dataframe\">\n",
       "  <thead>\n",
       "    <tr style=\"text-align: right;\">\n",
       "      <th></th>\n",
       "      <th>Date</th>\n",
       "      <th>Open</th>\n",
       "      <th>High</th>\n",
       "      <th>Low</th>\n",
       "      <th>Close</th>\n",
       "      <th>Volume</th>\n",
       "      <th>Dividend</th>\n",
       "      <th>Split</th>\n",
       "      <th>Adj_Open</th>\n",
       "      <th>Adj_High</th>\n",
       "      <th>Adj_Low</th>\n",
       "      <th>Adj_Close</th>\n",
       "      <th>Adj_Volume</th>\n",
       "    </tr>\n",
       "  </thead>\n",
       "  <tbody>\n",
       "    <tr>\n",
       "      <th>0</th>\n",
       "      <td>2018-04-17</td>\n",
       "      <td>132.11</td>\n",
       "      <td>132.20</td>\n",
       "      <td>128.81</td>\n",
       "      <td>130.54</td>\n",
       "      <td>11008515.0</td>\n",
       "      <td>0.0</td>\n",
       "      <td>1.0</td>\n",
       "      <td>132.11</td>\n",
       "      <td>132.20</td>\n",
       "      <td>128.81</td>\n",
       "      <td>130.54</td>\n",
       "      <td>11008515.0</td>\n",
       "    </tr>\n",
       "    <tr>\n",
       "      <th>1</th>\n",
       "      <td>2018-04-16</td>\n",
       "      <td>131.41</td>\n",
       "      <td>132.88</td>\n",
       "      <td>131.28</td>\n",
       "      <td>131.76</td>\n",
       "      <td>6375059.0</td>\n",
       "      <td>0.0</td>\n",
       "      <td>1.0</td>\n",
       "      <td>131.41</td>\n",
       "      <td>132.88</td>\n",
       "      <td>131.28</td>\n",
       "      <td>131.76</td>\n",
       "      <td>6375059.0</td>\n",
       "    </tr>\n",
       "    <tr>\n",
       "      <th>2</th>\n",
       "      <td>2018-04-13</td>\n",
       "      <td>131.09</td>\n",
       "      <td>131.42</td>\n",
       "      <td>129.63</td>\n",
       "      <td>130.62</td>\n",
       "      <td>4742250.0</td>\n",
       "      <td>0.0</td>\n",
       "      <td>1.0</td>\n",
       "      <td>131.09</td>\n",
       "      <td>131.42</td>\n",
       "      <td>129.63</td>\n",
       "      <td>130.62</td>\n",
       "      <td>4742250.0</td>\n",
       "    </tr>\n",
       "    <tr>\n",
       "      <th>3</th>\n",
       "      <td>2018-04-12</td>\n",
       "      <td>130.09</td>\n",
       "      <td>131.31</td>\n",
       "      <td>129.86</td>\n",
       "      <td>130.43</td>\n",
       "      <td>4559418.0</td>\n",
       "      <td>0.0</td>\n",
       "      <td>1.0</td>\n",
       "      <td>130.09</td>\n",
       "      <td>131.31</td>\n",
       "      <td>129.86</td>\n",
       "      <td>130.43</td>\n",
       "      <td>4559418.0</td>\n",
       "    </tr>\n",
       "    <tr>\n",
       "      <th>4</th>\n",
       "      <td>2018-04-11</td>\n",
       "      <td>129.14</td>\n",
       "      <td>130.35</td>\n",
       "      <td>129.03</td>\n",
       "      <td>129.63</td>\n",
       "      <td>4575162.0</td>\n",
       "      <td>0.0</td>\n",
       "      <td>1.0</td>\n",
       "      <td>129.14</td>\n",
       "      <td>130.35</td>\n",
       "      <td>129.03</td>\n",
       "      <td>129.63</td>\n",
       "      <td>4575162.0</td>\n",
       "    </tr>\n",
       "  </tbody>\n",
       "</table>\n",
       "</div>"
      ],
      "text/plain": [
       "         Date    Open    High     Low   Close      Volume  Dividend  Split  \\\n",
       "0  2018-04-17  132.11  132.20  128.81  130.54  11008515.0       0.0    1.0   \n",
       "1  2018-04-16  131.41  132.88  131.28  131.76   6375059.0       0.0    1.0   \n",
       "2  2018-04-13  131.09  131.42  129.63  130.62   4742250.0       0.0    1.0   \n",
       "3  2018-04-12  130.09  131.31  129.86  130.43   4559418.0       0.0    1.0   \n",
       "4  2018-04-11  129.14  130.35  129.03  129.63   4575162.0       0.0    1.0   \n",
       "\n",
       "   Adj_Open  Adj_High  Adj_Low  Adj_Close  Adj_Volume  \n",
       "0    132.11    132.20   128.81     130.54  11008515.0  \n",
       "1    131.41    132.88   131.28     131.76   6375059.0  \n",
       "2    131.09    131.42   129.63     130.62   4742250.0  \n",
       "3    130.09    131.31   129.86     130.43   4559418.0  \n",
       "4    129.14    130.35   129.03     129.63   4575162.0  "
      ]
     },
     "execution_count": 38,
     "metadata": {},
     "output_type": "execute_result"
    }
   ],
   "source": [
    "variables = pd.read_csv('JNJ.csv')\n",
    "variables.head()"
   ]
  },
  {
   "cell_type": "code",
   "execution_count": 12,
   "metadata": {},
   "outputs": [
    {
     "data": {
      "text/plain": [
       "(12183, 13)"
      ]
     },
     "execution_count": 12,
     "metadata": {},
     "output_type": "execute_result"
    }
   ],
   "source": [
    "variables.shape"
   ]
  },
  {
   "cell_type": "code",
   "execution_count": null,
   "metadata": {},
   "outputs": [],
   "source": [
    "variables.drop(columns = [])"
   ]
  }
 ],
 "metadata": {
  "kernelspec": {
   "display_name": "Python 3",
   "language": "python",
   "name": "python3"
  },
  "language_info": {
   "codemirror_mode": {
    "name": "ipython",
    "version": 3
   },
   "file_extension": ".py",
   "mimetype": "text/x-python",
   "name": "python",
   "nbconvert_exporter": "python",
   "pygments_lexer": "ipython3",
   "version": "3.6.4"
  }
 },
 "nbformat": 4,
 "nbformat_minor": 2
}
